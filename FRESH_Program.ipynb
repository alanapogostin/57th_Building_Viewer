{
  "nbformat": 4,
  "nbformat_minor": 0,
  "metadata": {
    "colab": {
      "name": "FRESH_Program.ipynb",
      "provenance": [],
      "collapsed_sections": [],
      "toc_visible": true,
      "authorship_tag": "ABX9TyNMzRnaw2QoW1CIAbSiyiVo",
      "include_colab_link": true
    },
    "kernelspec": {
      "name": "python3",
      "display_name": "Python 3"
    },
    "language_info": {
      "name": "python"
    }
  },
  "cells": [
    {
      "cell_type": "markdown",
      "metadata": {
        "id": "view-in-github",
        "colab_type": "text"
      },
      "source": [
        "<a href=\"https://colab.research.google.com/github/alanapogostin/57th_Building_Viewer/blob/master/FRESH_Program.ipynb\" target=\"_parent\"><img src=\"https://colab.research.google.com/assets/colab-badge.svg\" alt=\"Open In Colab\"/></a>"
      ]
    },
    {
      "cell_type": "markdown",
      "metadata": {
        "id": "-olUMrsxe_4m"
      },
      "source": [
        "Analysis requirements\n",
        "on top of general assignment requirements\n",
        "\n",
        "Read like a blog post\n",
        "Pretend you're explaining to a Wagner student who hasn't taken this class. You don't need to teach them Python, but they should be able to follow what's going on.\n",
        "Re-state the question, hypothesis, and data source(s) with link(s)\n",
        "Walk the reader through what you're doing in every step and what they should be taking away from it.\n",
        "Markdown can be used in text cells for formatting.\n",
        "Include any dead ends you hit.\n",
        "Have a conclusion that speaks to your question and hypothesis.\n",
        "Use pandas\n",
        "Not be trivial, requiring:\n",
        "At least 40 lines of code to come to a conclusion\n",
        "Transforming data through grouping, merging, and/or reshaping of DataFrames\n",
        "Operations that aren't easily done in a spreadsheet.\n",
        "Have a visualization (chart or map) of some kind\n",
        "Don't leave any sensitive information in the notebook: API keys, personally-identifiable information (PII), etc."
      ]
    },
    {
      "cell_type": "markdown",
      "metadata": {
        "id": "wvq8rHrXfNyM"
      },
      "source": [
        "**And the analysis begins....**\n",
        "\n",
        "Like all code, I need to set up my environment by pulling in all relevant pacakges."
      ]
    },
    {
      "cell_type": "code",
      "metadata": {
        "id": "clW3Y7wpfK1B",
        "colab": {
          "base_uri": "https://localhost:8080/"
        },
        "outputId": "d9918b7f-fbec-4971-ea6e-60980430dab4"
      },
      "source": [
        "import pandas as pd\n",
        "import plotly.express as px\n",
        "import numpy as np\n",
        "import requests\n",
        "#%pip install --upgrade --quiet plotly\n",
        "%pip install geopandas\n",
        "import geopandas as gpd\n",
        "#%pip install Point\n",
        "from shapely.geometry import Point\n",
        "%pip install --upgrade --quiet plotly\n",
        "%pip install --upgrade --quiet geopandas"
      ],
      "execution_count": 90,
      "outputs": [
        {
          "output_type": "stream",
          "text": [
            "Requirement already satisfied: geopandas in /usr/local/lib/python3.7/dist-packages (0.9.0)\n",
            "Requirement already satisfied: fiona>=1.8 in /usr/local/lib/python3.7/dist-packages (from geopandas) (1.8.19)\n",
            "Requirement already satisfied: shapely>=1.6 in /usr/local/lib/python3.7/dist-packages (from geopandas) (1.7.1)\n",
            "Requirement already satisfied: pyproj>=2.2.0 in /usr/local/lib/python3.7/dist-packages (from geopandas) (3.0.1)\n",
            "Requirement already satisfied: pandas>=0.24.0 in /usr/local/lib/python3.7/dist-packages (from geopandas) (1.1.5)\n",
            "Requirement already satisfied: click-plugins>=1.0 in /usr/local/lib/python3.7/dist-packages (from fiona>=1.8->geopandas) (1.1.1)\n",
            "Requirement already satisfied: cligj>=0.5 in /usr/local/lib/python3.7/dist-packages (from fiona>=1.8->geopandas) (0.7.1)\n",
            "Requirement already satisfied: six>=1.7 in /usr/local/lib/python3.7/dist-packages (from fiona>=1.8->geopandas) (1.15.0)\n",
            "Requirement already satisfied: certifi in /usr/local/lib/python3.7/dist-packages (from fiona>=1.8->geopandas) (2020.12.5)\n",
            "Requirement already satisfied: munch in /usr/local/lib/python3.7/dist-packages (from fiona>=1.8->geopandas) (2.5.0)\n",
            "Requirement already satisfied: click<8,>=4.0 in /usr/local/lib/python3.7/dist-packages (from fiona>=1.8->geopandas) (7.1.2)\n",
            "Requirement already satisfied: attrs>=17 in /usr/local/lib/python3.7/dist-packages (from fiona>=1.8->geopandas) (20.3.0)\n",
            "Requirement already satisfied: pytz>=2017.2 in /usr/local/lib/python3.7/dist-packages (from pandas>=0.24.0->geopandas) (2018.9)\n",
            "Requirement already satisfied: numpy>=1.15.4 in /usr/local/lib/python3.7/dist-packages (from pandas>=0.24.0->geopandas) (1.19.5)\n",
            "Requirement already satisfied: python-dateutil>=2.7.3 in /usr/local/lib/python3.7/dist-packages (from pandas>=0.24.0->geopandas) (2.8.1)\n"
          ],
          "name": "stdout"
        }
      ]
    },
    {
      "cell_type": "markdown",
      "metadata": {
        "id": "6JSx8uTqfn-d"
      },
      "source": [
        "# Importing and Cleaning Data\n",
        "**Now I need to import all my data.**\n",
        "I am going to start with importing all of the shape boundaries."
      ]
    },
    {
      "cell_type": "code",
      "metadata": {
        "colab": {
          "base_uri": "https://localhost:8080/",
          "height": 282
        },
        "id": "CS50mNn8fwkm",
        "outputId": "29d167a5-2416-4c4e-bb6c-44066d00131e"
      },
      "source": [
        "fresh = gpd.read_file('https://data.cityofnewyork.us/api/geospatial/w9uz-8epq?method=export&format=GeoJSON')\n",
        "fresh = fresh.to_crs(epsg=4326)\n",
        "fresh.plot()"
      ],
      "execution_count": 91,
      "outputs": [
        {
          "output_type": "execute_result",
          "data": {
            "text/plain": [
              "<matplotlib.axes._subplots.AxesSubplot at 0x7fb244f5fe10>"
            ]
          },
          "metadata": {
            "tags": []
          },
          "execution_count": 91
        },
        {
          "output_type": "display_data",
          "data": {
            "image/png": "[encoded data removed]",
            "text/plain": [
              "<Figure size 432x288 with 1 Axes>"
            ]
          },
          "metadata": {
            "tags": [],
            "needs_background": "light"
          }
        }
      ]
    },
    {
      "cell_type": "markdown",
      "metadata": {
        "id": "wnSzIvCBVKUp"
      },
      "source": [
        "### FRESH Program Boundary"
      ]
    },
    {
      "cell_type": "markdown",
      "metadata": {
        "id": "OVm82WP1SmSQ"
      },
      "source": [
        "The original FRESH program study was only looking at supermarkets that are 10,000 square feet or less. So after I pull in the supermarket data in NYC from the data.ny.gov API I filtered out supermarkets that are 10,000 square feet or more. "
      ]
    },
    {
      "cell_type": "code",
      "metadata": {
        "id": "Jj2sTjvEj9YQ"
      },
      "source": [
        "retrieve = requests.get(\"https://data.ny.gov/resource/9a8c-vfzj.geojson?$query=SELECT * WHERE county='Bronx' OR county='Queens' OR county='Kings'OR county='Richmond' OR county='New York' LIMIT 10000000\")\n",
        "grocery_stores = retrieve.json()\n",
        "grocery_stores = pd.json_normalize(grocery_stores['features']) \n",
        "grocery_stores['properties.square_footage'] = grocery_stores['properties.square_footage'].astype(int)\n",
        "grocery_stores = grocery_stores[(grocery_stores['properties.square_footage'] >= 10000)& (grocery_stores['geometry.coordinates'].isna() == False)]"
      ],
      "execution_count": 92,
      "outputs": []
    },
    {
      "cell_type": "markdown",
      "metadata": {
        "id": "Rpx15LqdTn4H"
      },
      "source": [
        "Since I am doing some relatively complex geospatial calculations, I am going to convert the \"grocery_stores\" dataframe into a geospatial dataframe using the geopandas package."
      ]
    },
    {
      "cell_type": "code",
      "metadata": {
        "id": "0k1410SOusQR"
      },
      "source": [
        "grocery_stores['geometry'] = grocery_stores['geometry.coordinates'].apply(Point)\n",
        "grocery_stores_gpd = gpd.GeoDataFrame(grocery_stores, geometry='geometry')\n",
        "grocery_stores_gpd = grocery_stores_gpd['properties.square_footage', 'type', 'geometry']\n",
        "grocery_stores_gpd.head(3)"
      ],
      "execution_count": null,
      "outputs": []
    },
    {
      "cell_type": "code",
      "metadata": {
        "id": "6wdO5Dj9eGRJ"
      },
      "source": [
        "grocery_stores_gpd.plot()"
      ],
      "execution_count": null,
      "outputs": []
    },
    {
      "cell_type": "markdown",
      "metadata": {
        "id": "8evN_x-cVAxr"
      },
      "source": [
        "### Community District Shape and Population"
      ]
    },
    {
      "cell_type": "markdown",
      "metadata": {
        "id": "tZpmEDb2Vwvh"
      },
      "source": [
        "To create any form of chloropleth map showing data by NYC community district, I need to pull in the community district shape file. "
      ]
    },
    {
      "cell_type": "code",
      "metadata": {
        "colab": {
          "base_uri": "https://localhost:8080/",
          "height": 402
        },
        "id": "0mIpFYauX2AZ",
        "outputId": "4556492a-6c5f-4fcd-c3b0-cfdca13aff11"
      },
      "source": [
        "cd_shape = 'https://data.cityofnewyork.us/api/geospatial/yfnk-k7r4?method=export&format=GeoJSON'\n",
        "cd_shape_gpd = gpd.read_file(cd_shape, crs = \"epsg:4326\")\n",
        "pop_by_cd_geojson = pop_by_cd.get(cd_shape)\n",
        "cd_shape_gpd"
      ],
      "execution_count": 94,
      "outputs": [
        {
          "output_type": "execute_result",
          "data": {
            "text/html": [
              "<div>\n",
              "<style scoped>\n",
              "    .dataframe tbody tr th:only-of-type {\n",
              "        vertical-align: middle;\n",
              "    }\n",
              "\n",
              "    .dataframe tbody tr th {\n",
              "        vertical-align: top;\n",
              "    }\n",
              "\n",
              "    .dataframe thead th {\n",
              "        text-align: right;\n",
              "    }\n",
              "</style>\n",
              "<table border=\"1\" class=\"dataframe\">\n",
              "  <thead>\n",
              "    <tr style=\"text-align: right;\">\n",
              "      <th></th>\n",
              "      <th>boro_cd</th>\n",
              "      <th>shape_area</th>\n",
              "      <th>shape_leng</th>\n",
              "      <th>geometry</th>\n",
              "    </tr>\n",
              "  </thead>\n",
              "  <tbody>\n",
              "    <tr>\n",
              "      <th>0</th>\n",
              "      <td>101</td>\n",
              "      <td>42689119.0133</td>\n",
              "      <td>74168.5878924</td>\n",
              "      <td>MULTIPOLYGON (((-74.04388 40.69019, -74.04351 ...</td>\n",
              "    </tr>\n",
              "    <tr>\n",
              "      <th>1</th>\n",
              "      <td>102</td>\n",
              "      <td>37689205.9401</td>\n",
              "      <td>34130.5952768</td>\n",
              "      <td>MULTIPOLYGON (((-73.99684 40.73736, -73.99362 ...</td>\n",
              "    </tr>\n",
              "    <tr>\n",
              "      <th>2</th>\n",
              "      <td>103</td>\n",
              "      <td>46879779.2986</td>\n",
              "      <td>30695.6409632</td>\n",
              "      <td>MULTIPOLYGON (((-73.97177 40.72582, -73.97179 ...</td>\n",
              "    </tr>\n",
              "    <tr>\n",
              "      <th>3</th>\n",
              "      <td>104</td>\n",
              "      <td>49311715.1126</td>\n",
              "      <td>67623.6699012</td>\n",
              "      <td>MULTIPOLYGON (((-73.99394 40.77318, -73.99370 ...</td>\n",
              "    </tr>\n",
              "    <tr>\n",
              "      <th>4</th>\n",
              "      <td>105</td>\n",
              "      <td>43790329.8699</td>\n",
              "      <td>35288.1885095</td>\n",
              "      <td>MULTIPOLYGON (((-73.97301 40.76428, -73.97141 ...</td>\n",
              "    </tr>\n",
              "    <tr>\n",
              "      <th>...</th>\n",
              "      <td>...</td>\n",
              "      <td>...</td>\n",
              "      <td>...</td>\n",
              "      <td>...</td>\n",
              "    </tr>\n",
              "    <tr>\n",
              "      <th>66</th>\n",
              "      <td>502</td>\n",
              "      <td>592715674.432</td>\n",
              "      <td>143044.989836</td>\n",
              "      <td>MULTIPOLYGON (((-74.07347 40.57839, -74.07345 ...</td>\n",
              "    </tr>\n",
              "    <tr>\n",
              "      <th>67</th>\n",
              "      <td>503</td>\n",
              "      <td>599053419.389</td>\n",
              "      <td>193564.186317</td>\n",
              "      <td>MULTIPOLYGON (((-74.13320 40.53631, -74.13301 ...</td>\n",
              "    </tr>\n",
              "    <tr>\n",
              "      <th>68</th>\n",
              "      <td>595</td>\n",
              "      <td>54734567.3489</td>\n",
              "      <td>110147.254437</td>\n",
              "      <td>MULTIPOLYGON (((-74.11834 40.55046, -74.11676 ...</td>\n",
              "    </tr>\n",
              "    <tr>\n",
              "      <th>69</th>\n",
              "      <td>203</td>\n",
              "      <td>44803080.7253</td>\n",
              "      <td>33500.8967412</td>\n",
              "      <td>MULTIPOLYGON (((-73.88072 40.83752, -73.88074 ...</td>\n",
              "    </tr>\n",
              "    <tr>\n",
              "      <th>70</th>\n",
              "      <td>209</td>\n",
              "      <td>114278736.079</td>\n",
              "      <td>62244.1088593</td>\n",
              "      <td>MULTIPOLYGON (((-73.83979 40.83562, -73.83967 ...</td>\n",
              "    </tr>\n",
              "  </tbody>\n",
              "</table>\n",
              "<p>71 rows × 4 columns</p>\n",
              "</div>"
            ],
            "text/plain": [
              "   boro_cd  ...                                           geometry\n",
              "0      101  ...  MULTIPOLYGON (((-74.04388 40.69019, -74.04351 ...\n",
              "1      102  ...  MULTIPOLYGON (((-73.99684 40.73736, -73.99362 ...\n",
              "2      103  ...  MULTIPOLYGON (((-73.97177 40.72582, -73.97179 ...\n",
              "3      104  ...  MULTIPOLYGON (((-73.99394 40.77318, -73.99370 ...\n",
              "4      105  ...  MULTIPOLYGON (((-73.97301 40.76428, -73.97141 ...\n",
              "..     ...  ...                                                ...\n",
              "66     502  ...  MULTIPOLYGON (((-74.07347 40.57839, -74.07345 ...\n",
              "67     503  ...  MULTIPOLYGON (((-74.13320 40.53631, -74.13301 ...\n",
              "68     595  ...  MULTIPOLYGON (((-74.11834 40.55046, -74.11676 ...\n",
              "69     203  ...  MULTIPOLYGON (((-73.88072 40.83752, -73.88074 ...\n",
              "70     209  ...  MULTIPOLYGON (((-73.83979 40.83562, -73.83967 ...\n",
              "\n",
              "[71 rows x 4 columns]"
            ]
          },
          "metadata": {
            "tags": []
          },
          "execution_count": 94
        }
      ]
    },
    {
      "cell_type": "markdown",
      "metadata": {
        "id": "CmSHuFH0WPZo"
      },
      "source": [
        "Now, I am going to pull in the population data from [NYC Open data](https://opendata.cityofnewyork.us/)  ."
      ]
    },
    {
      "cell_type": "code",
      "metadata": {
        "id": "yytl3QikzzZD"
      },
      "source": [
        "pop_by_cd = pd.read_csv('https://data.cityofnewyork.us/api/views/xi7c-iiu2/rows.csv')"
      ],
      "execution_count": 95,
      "outputs": []
    },
    {
      "cell_type": "markdown",
      "metadata": {
        "id": "Kdiext20WlMx"
      },
      "source": [
        "To join the population data in \"pop_by_cd\" to the community district boundary layer, I am going to need a column to join on. Right how \"pop_by_cd\" has the Community District numbers and the Boroughs. I am going to use this information to generate the community district code so it matches the \"boro_cd\" column in \"cd_shape_gpd\". \n",
        "\n",
        "To create the \"boro_cd\" column, I am going to define a funtion that uses CD Number and Borough to create the \"boro_ce\"."
      ]
    },
    {
      "cell_type": "code",
      "metadata": {
        "id": "I-B3Wol5dSo9"
      },
      "source": [
        "def borocd_code(row):\n",
        "  if \"Manhattan\" in row[\"Borough\"]:\n",
        "    return '1'  + format(row[\"CD Number\"], '02')\n",
        "  elif \"Bronx\" in row[\"Borough\"]:\n",
        "    return '2' + format(row[\"CD Number\"], '02')\n",
        "  elif \"Brooklyn\" in row[\"Borough\"]:\n",
        "    return '3' + format(row[\"CD Number\"], '02')\n",
        "  elif \"Queens\" in row[\"Borough\"]:\n",
        "    return '4' + format(row[\"CD Number\"], '02')\n",
        "  elif \"Staten Island\" in row[\"Borough\"]:\n",
        "    return '5' + format(row[\"CD Number\"], '02')\n",
        "  else:\n",
        "    return 'In'"
      ],
      "execution_count": 96,
      "outputs": []
    },
    {
      "cell_type": "markdown",
      "metadata": {
        "id": "5fbU1FbgYLgi"
      },
      "source": [
        "Now I am running the function on the df to create a the \"boro_cd\" column."
      ]
    },
    {
      "cell_type": "code",
      "metadata": {
        "id": "LXl0tbWQVshe"
      },
      "source": [
        "pop_by_cd['boro_cd'] = pop_by_cd.apply(borocd_code, axis = 1)"
      ],
      "execution_count": 97,
      "outputs": []
    },
    {
      "cell_type": "markdown",
      "metadata": {
        "id": "PUZd-au7Ybw2"
      },
      "source": [
        "# Geospatial Manipulation"
      ]
    },
    {
      "cell_type": "markdown",
      "metadata": {
        "id": "NrXgNImr2Bja"
      },
      "source": [
        "Before I do any geospatial transformations, I want to make sure that the coordinate reference systems of the two geodataframes match eachother."
      ]
    },
    {
      "cell_type": "code",
      "metadata": {
        "colab": {
          "base_uri": "https://localhost:8080/",
          "height": 758
        },
        "id": "OjtiTyxVpARR",
        "outputId": "5c0242df-307d-4e26-8b2a-e8a9015a0a01"
      },
      "source": [
        "grocery_stores_gpd = grocery_stores_gpd.set_crs(epsg=4326)\n",
        "cd_shape_gpd = cd_shape_gpd.set_crs(4326) \n",
        "grocery_stores_gpd.crs == cd_shape_gpd.crs"
      ],
      "execution_count": 98,
      "outputs": [
        {
          "output_type": "execute_result",
          "data": {
            "text/html": [
              "<div>\n",
              "<style scoped>\n",
              "    .dataframe tbody tr th:only-of-type {\n",
              "        vertical-align: middle;\n",
              "    }\n",
              "\n",
              "    .dataframe tbody tr th {\n",
              "        vertical-align: top;\n",
              "    }\n",
              "\n",
              "    .dataframe thead th {\n",
              "        text-align: right;\n",
              "    }\n",
              "</style>\n",
              "<table border=\"1\" class=\"dataframe\">\n",
              "  <thead>\n",
              "    <tr style=\"text-align: right;\">\n",
              "      <th></th>\n",
              "      <th>type</th>\n",
              "      <th>geometry</th>\n",
              "      <th>properties.location_state</th>\n",
              "      <th>properties.estab_type</th>\n",
              "      <th>properties.zip_code</th>\n",
              "      <th>properties.city</th>\n",
              "      <th>properties.location_zip</th>\n",
              "      <th>properties.operation_type</th>\n",
              "      <th>properties.state</th>\n",
              "      <th>properties.location_address</th>\n",
              "      <th>properties.address_line_3</th>\n",
              "      <th>properties.location_city</th>\n",
              "      <th>properties.street_name</th>\n",
              "      <th>properties.dba_name</th>\n",
              "      <th>properties.county</th>\n",
              "      <th>properties.entity_name</th>\n",
              "      <th>properties.square_footage</th>\n",
              "      <th>properties.address_line_2</th>\n",
              "      <th>properties.street_number</th>\n",
              "      <th>properties.license_number</th>\n",
              "      <th>geometry.type</th>\n",
              "      <th>geometry.coordinates</th>\n",
              "    </tr>\n",
              "  </thead>\n",
              "  <tbody>\n",
              "    <tr>\n",
              "      <th>27</th>\n",
              "      <td>Feature</td>\n",
              "      <td>POINT (-73.90016 40.82316)</td>\n",
              "      <td>NY</td>\n",
              "      <td>A</td>\n",
              "      <td>10459</td>\n",
              "      <td>BRONX</td>\n",
              "      <td>10459</td>\n",
              "      <td>Store</td>\n",
              "      <td>NY</td>\n",
              "      <td>985 PROSPECT AVE</td>\n",
              "      <td></td>\n",
              "      <td>BRONX</td>\n",
              "      <td>PROSPECT AVE</td>\n",
              "      <td>LUCKY 99 CENTS SHOP</td>\n",
              "      <td>Bronx</td>\n",
              "      <td>LUCKY 99 CENTS SHOP INC</td>\n",
              "      <td>10000</td>\n",
              "      <td></td>\n",
              "      <td>985</td>\n",
              "      <td>609443</td>\n",
              "      <td>Point</td>\n",
              "      <td>[-73.900161, 40.82316]</td>\n",
              "    </tr>\n",
              "    <tr>\n",
              "      <th>46</th>\n",
              "      <td>Feature</td>\n",
              "      <td>POINT (-73.96430 40.62047)</td>\n",
              "      <td>NY</td>\n",
              "      <td>JAC</td>\n",
              "      <td>11230</td>\n",
              "      <td>BROOKLYN</td>\n",
              "      <td>11230</td>\n",
              "      <td>Store</td>\n",
              "      <td>NY</td>\n",
              "      <td>1507 CONEY ISLAND AVE</td>\n",
              "      <td></td>\n",
              "      <td>BROOKLYN</td>\n",
              "      <td>CONEY ISLAND AVE</td>\n",
              "      <td>POMEGRANATE</td>\n",
              "      <td>Kings</td>\n",
              "      <td>KOSHER GARDEN INC THE</td>\n",
              "      <td>18000</td>\n",
              "      <td></td>\n",
              "      <td>1507</td>\n",
              "      <td>616354</td>\n",
              "      <td>Point</td>\n",
              "      <td>[-73.964303, 40.620473]</td>\n",
              "    </tr>\n",
              "    <tr>\n",
              "      <th>52</th>\n",
              "      <td>Feature</td>\n",
              "      <td>POINT (-73.95836 40.60573)</td>\n",
              "      <td>NY</td>\n",
              "      <td>JAC</td>\n",
              "      <td>11229</td>\n",
              "      <td>BROOKLYN</td>\n",
              "      <td>11229</td>\n",
              "      <td>Store</td>\n",
              "      <td>NY</td>\n",
              "      <td>1406 AVENUE</td>\n",
              "      <td></td>\n",
              "      <td>BROOKLYN</td>\n",
              "      <td>AVENUE U</td>\n",
              "      <td>AVE U FISH MARKET</td>\n",
              "      <td>Kings</td>\n",
              "      <td>AVE U FISH MARKET INC</td>\n",
              "      <td>25000</td>\n",
              "      <td></td>\n",
              "      <td>1406</td>\n",
              "      <td>730294</td>\n",
              "      <td>Point</td>\n",
              "      <td>[-73.95836, 40.605729]</td>\n",
              "    </tr>\n",
              "    <tr>\n",
              "      <th>88</th>\n",
              "      <td>Feature</td>\n",
              "      <td>POINT (-73.90687 40.66964)</td>\n",
              "      <td>NY</td>\n",
              "      <td>JAC</td>\n",
              "      <td>11212</td>\n",
              "      <td>BROOKLYN</td>\n",
              "      <td>11212</td>\n",
              "      <td>Store</td>\n",
              "      <td>NY</td>\n",
              "      <td>381 MOTHER GASTON BLVD</td>\n",
              "      <td></td>\n",
              "      <td>BROOKLYN</td>\n",
              "      <td>MOTHER GASTON BLVD</td>\n",
              "      <td>CHERRY VALLEY MARKET</td>\n",
              "      <td>Kings</td>\n",
              "      <td>FRESH PRODUCE INC</td>\n",
              "      <td>18000</td>\n",
              "      <td></td>\n",
              "      <td>381</td>\n",
              "      <td>616150</td>\n",
              "      <td>Point</td>\n",
              "      <td>[-73.906873, 40.669644]</td>\n",
              "    </tr>\n",
              "    <tr>\n",
              "      <th>99</th>\n",
              "      <td>Feature</td>\n",
              "      <td>POINT (-73.96909 40.64029)</td>\n",
              "      <td>NY</td>\n",
              "      <td>JAC</td>\n",
              "      <td>11218</td>\n",
              "      <td>BROOKLYN</td>\n",
              "      <td>11218</td>\n",
              "      <td>Store</td>\n",
              "      <td>NY</td>\n",
              "      <td>710 CONEY ISLAND AVE</td>\n",
              "      <td></td>\n",
              "      <td>BROOKLYN</td>\n",
              "      <td>CONEY ISLAND AVE</td>\n",
              "      <td>IDEAL FOOD BASKET SUPER</td>\n",
              "      <td>Kings</td>\n",
              "      <td>JD 710 FOOD CORP</td>\n",
              "      <td>20000</td>\n",
              "      <td></td>\n",
              "      <td>710</td>\n",
              "      <td>613323</td>\n",
              "      <td>Point</td>\n",
              "      <td>[-73.969095, 40.640292]</td>\n",
              "    </tr>\n",
              "    <tr>\n",
              "      <th>...</th>\n",
              "      <td>...</td>\n",
              "      <td>...</td>\n",
              "      <td>...</td>\n",
              "      <td>...</td>\n",
              "      <td>...</td>\n",
              "      <td>...</td>\n",
              "      <td>...</td>\n",
              "      <td>...</td>\n",
              "      <td>...</td>\n",
              "      <td>...</td>\n",
              "      <td>...</td>\n",
              "      <td>...</td>\n",
              "      <td>...</td>\n",
              "      <td>...</td>\n",
              "      <td>...</td>\n",
              "      <td>...</td>\n",
              "      <td>...</td>\n",
              "      <td>...</td>\n",
              "      <td>...</td>\n",
              "      <td>...</td>\n",
              "      <td>...</td>\n",
              "      <td>...</td>\n",
              "    </tr>\n",
              "    <tr>\n",
              "      <th>13482</th>\n",
              "      <td>Feature</td>\n",
              "      <td>POINT (-73.99027 40.74916)</td>\n",
              "      <td>NY</td>\n",
              "      <td>A</td>\n",
              "      <td>10001</td>\n",
              "      <td>NEW YORK</td>\n",
              "      <td>10001</td>\n",
              "      <td>Store</td>\n",
              "      <td>NY</td>\n",
              "      <td>140 W 32ND ST</td>\n",
              "      <td></td>\n",
              "      <td>NEW YORK</td>\n",
              "      <td>W 32ND ST</td>\n",
              "      <td>ODD JOB TRADING</td>\n",
              "      <td>New York</td>\n",
              "      <td>ODD JOB TRADING INC</td>\n",
              "      <td>100000</td>\n",
              "      <td></td>\n",
              "      <td>140</td>\n",
              "      <td>620363</td>\n",
              "      <td>Point</td>\n",
              "      <td>[-73.990274, 40.749156]</td>\n",
              "    </tr>\n",
              "    <tr>\n",
              "      <th>13492</th>\n",
              "      <td>Feature</td>\n",
              "      <td>POINT (-73.94780 40.77900)</td>\n",
              "      <td>NY</td>\n",
              "      <td>JAC</td>\n",
              "      <td>10128</td>\n",
              "      <td>NEW YORK</td>\n",
              "      <td>10128</td>\n",
              "      <td>Store</td>\n",
              "      <td>NY</td>\n",
              "      <td>1721 27 1ST AVE</td>\n",
              "      <td></td>\n",
              "      <td>NEW YORK</td>\n",
              "      <td>1ST AVE</td>\n",
              "      <td>C TOWN</td>\n",
              "      <td>New York</td>\n",
              "      <td>KBC FOOD CORP</td>\n",
              "      <td>24000</td>\n",
              "      <td></td>\n",
              "      <td>1721-27</td>\n",
              "      <td>620982</td>\n",
              "      <td>Point</td>\n",
              "      <td>[-73.9478, 40.778999]</td>\n",
              "    </tr>\n",
              "    <tr>\n",
              "      <th>13583</th>\n",
              "      <td>Feature</td>\n",
              "      <td>POINT (-73.96412 40.77087)</td>\n",
              "      <td>NY</td>\n",
              "      <td>A</td>\n",
              "      <td>10010</td>\n",
              "      <td>NEW YORK</td>\n",
              "      <td>10010</td>\n",
              "      <td>Store</td>\n",
              "      <td>NY</td>\n",
              "      <td>750 AVENUE</td>\n",
              "      <td></td>\n",
              "      <td>NEW YORK</td>\n",
              "      <td>AVENUE OF AMERICAS</td>\n",
              "      <td>CVS PHARMACY 02671</td>\n",
              "      <td>New York</td>\n",
              "      <td>CVS ALBANY LLC</td>\n",
              "      <td>10250</td>\n",
              "      <td></td>\n",
              "      <td>750</td>\n",
              "      <td>625174</td>\n",
              "      <td>Point</td>\n",
              "      <td>[-73.96412, 40.770875]</td>\n",
              "    </tr>\n",
              "    <tr>\n",
              "      <th>13603</th>\n",
              "      <td>Feature</td>\n",
              "      <td>POINT (-73.95227 40.77810)</td>\n",
              "      <td>NY</td>\n",
              "      <td>JAC</td>\n",
              "      <td>10028</td>\n",
              "      <td>NEW YORK</td>\n",
              "      <td>10028</td>\n",
              "      <td>Store</td>\n",
              "      <td>NY</td>\n",
              "      <td>240 E 86TH ST</td>\n",
              "      <td></td>\n",
              "      <td>NEW YORK</td>\n",
              "      <td>E 86TH ST</td>\n",
              "      <td>FAIRWAY MARKET OF 86TH</td>\n",
              "      <td>New York</td>\n",
              "      <td>VSM NY HOLDINGS LLC</td>\n",
              "      <td>40000</td>\n",
              "      <td></td>\n",
              "      <td>240</td>\n",
              "      <td>742907</td>\n",
              "      <td>Point</td>\n",
              "      <td>[-73.952267, 40.778101]</td>\n",
              "    </tr>\n",
              "    <tr>\n",
              "      <th>13607</th>\n",
              "      <td>Feature</td>\n",
              "      <td>POINT (-74.21644 40.52282)</td>\n",
              "      <td>NY</td>\n",
              "      <td>JAC</td>\n",
              "      <td>10309</td>\n",
              "      <td>STATEN ISLAND</td>\n",
              "      <td>10309</td>\n",
              "      <td>Store</td>\n",
              "      <td>NY</td>\n",
              "      <td>6400 AMBOY ROAD</td>\n",
              "      <td></td>\n",
              "      <td>STATEN ISLAND</td>\n",
              "      <td>AMBOY ROAD</td>\n",
              "      <td>6400 AMBOY ROAD MEAT</td>\n",
              "      <td>Richmond</td>\n",
              "      <td>6400 AMBOY ROAD MEAT LLC</td>\n",
              "      <td>55000</td>\n",
              "      <td></td>\n",
              "      <td>6400</td>\n",
              "      <td>722010</td>\n",
              "      <td>Point</td>\n",
              "      <td>[-74.216439, 40.522822]</td>\n",
              "    </tr>\n",
              "  </tbody>\n",
              "</table>\n",
              "<p>623 rows × 22 columns</p>\n",
              "</div>"
            ],
            "text/plain": [
              "          type  ...     geometry.coordinates\n",
              "27     Feature  ...   [-73.900161, 40.82316]\n",
              "46     Feature  ...  [-73.964303, 40.620473]\n",
              "52     Feature  ...   [-73.95836, 40.605729]\n",
              "88     Feature  ...  [-73.906873, 40.669644]\n",
              "99     Feature  ...  [-73.969095, 40.640292]\n",
              "...        ...  ...                      ...\n",
              "13482  Feature  ...  [-73.990274, 40.749156]\n",
              "13492  Feature  ...    [-73.9478, 40.778999]\n",
              "13583  Feature  ...   [-73.96412, 40.770875]\n",
              "13603  Feature  ...  [-73.952267, 40.778101]\n",
              "13607  Feature  ...  [-74.216439, 40.522822]\n",
              "\n",
              "[623 rows x 22 columns]"
            ]
          },
          "metadata": {
            "tags": []
          },
          "execution_count": 98
        }
      ]
    },
    {
      "cell_type": "code",
      "metadata": {
        "colab": {
          "base_uri": "https://localhost:8080/",
          "height": 257
        },
        "id": "dAo2JpYwdjJK",
        "outputId": "63ee688a-e60d-45f1-8095-89038ac3e619"
      },
      "source": [
        "grocery_stores_gpd.head(3)"
      ],
      "execution_count": 102,
      "outputs": [
        {
          "output_type": "execute_result",
          "data": {
            "text/html": [
              "<div>\n",
              "<style scoped>\n",
              "    .dataframe tbody tr th:only-of-type {\n",
              "        vertical-align: middle;\n",
              "    }\n",
              "\n",
              "    .dataframe tbody tr th {\n",
              "        vertical-align: top;\n",
              "    }\n",
              "\n",
              "    .dataframe thead th {\n",
              "        text-align: right;\n",
              "    }\n",
              "</style>\n",
              "<table border=\"1\" class=\"dataframe\">\n",
              "  <thead>\n",
              "    <tr style=\"text-align: right;\">\n",
              "      <th></th>\n",
              "      <th>type</th>\n",
              "      <th>geometry</th>\n",
              "      <th>properties.location_state</th>\n",
              "      <th>properties.estab_type</th>\n",
              "      <th>properties.zip_code</th>\n",
              "      <th>properties.city</th>\n",
              "      <th>properties.location_zip</th>\n",
              "      <th>properties.operation_type</th>\n",
              "      <th>properties.state</th>\n",
              "      <th>properties.location_address</th>\n",
              "      <th>properties.address_line_3</th>\n",
              "      <th>properties.location_city</th>\n",
              "      <th>properties.street_name</th>\n",
              "      <th>properties.dba_name</th>\n",
              "      <th>properties.county</th>\n",
              "      <th>properties.entity_name</th>\n",
              "      <th>properties.square_footage</th>\n",
              "      <th>properties.address_line_2</th>\n",
              "      <th>properties.street_number</th>\n",
              "      <th>properties.license_number</th>\n",
              "      <th>geometry.type</th>\n",
              "      <th>geometry.coordinates</th>\n",
              "    </tr>\n",
              "  </thead>\n",
              "  <tbody>\n",
              "    <tr>\n",
              "      <th>27</th>\n",
              "      <td>Feature</td>\n",
              "      <td>POINT (-73.90016 40.82316)</td>\n",
              "      <td>NY</td>\n",
              "      <td>A</td>\n",
              "      <td>10459</td>\n",
              "      <td>BRONX</td>\n",
              "      <td>10459</td>\n",
              "      <td>Store</td>\n",
              "      <td>NY</td>\n",
              "      <td>985 PROSPECT AVE</td>\n",
              "      <td></td>\n",
              "      <td>BRONX</td>\n",
              "      <td>PROSPECT AVE</td>\n",
              "      <td>LUCKY 99 CENTS SHOP</td>\n",
              "      <td>Bronx</td>\n",
              "      <td>LUCKY 99 CENTS SHOP INC</td>\n",
              "      <td>10000</td>\n",
              "      <td></td>\n",
              "      <td>985</td>\n",
              "      <td>609443</td>\n",
              "      <td>Point</td>\n",
              "      <td>[-73.900161, 40.82316]</td>\n",
              "    </tr>\n",
              "    <tr>\n",
              "      <th>46</th>\n",
              "      <td>Feature</td>\n",
              "      <td>POINT (-73.96430 40.62047)</td>\n",
              "      <td>NY</td>\n",
              "      <td>JAC</td>\n",
              "      <td>11230</td>\n",
              "      <td>BROOKLYN</td>\n",
              "      <td>11230</td>\n",
              "      <td>Store</td>\n",
              "      <td>NY</td>\n",
              "      <td>1507 CONEY ISLAND AVE</td>\n",
              "      <td></td>\n",
              "      <td>BROOKLYN</td>\n",
              "      <td>CONEY ISLAND AVE</td>\n",
              "      <td>POMEGRANATE</td>\n",
              "      <td>Kings</td>\n",
              "      <td>KOSHER GARDEN INC THE</td>\n",
              "      <td>18000</td>\n",
              "      <td></td>\n",
              "      <td>1507</td>\n",
              "      <td>616354</td>\n",
              "      <td>Point</td>\n",
              "      <td>[-73.964303, 40.620473]</td>\n",
              "    </tr>\n",
              "    <tr>\n",
              "      <th>52</th>\n",
              "      <td>Feature</td>\n",
              "      <td>POINT (-73.95836 40.60573)</td>\n",
              "      <td>NY</td>\n",
              "      <td>JAC</td>\n",
              "      <td>11229</td>\n",
              "      <td>BROOKLYN</td>\n",
              "      <td>11229</td>\n",
              "      <td>Store</td>\n",
              "      <td>NY</td>\n",
              "      <td>1406 AVENUE</td>\n",
              "      <td></td>\n",
              "      <td>BROOKLYN</td>\n",
              "      <td>AVENUE U</td>\n",
              "      <td>AVE U FISH MARKET</td>\n",
              "      <td>Kings</td>\n",
              "      <td>AVE U FISH MARKET INC</td>\n",
              "      <td>25000</td>\n",
              "      <td></td>\n",
              "      <td>1406</td>\n",
              "      <td>730294</td>\n",
              "      <td>Point</td>\n",
              "      <td>[-73.95836, 40.605729]</td>\n",
              "    </tr>\n",
              "  </tbody>\n",
              "</table>\n",
              "</div>"
            ],
            "text/plain": [
              "       type                    geometry  ... geometry.type     geometry.coordinates\n",
              "27  Feature  POINT (-73.90016 40.82316)  ...         Point   [-73.900161, 40.82316]\n",
              "46  Feature  POINT (-73.96430 40.62047)  ...         Point  [-73.964303, 40.620473]\n",
              "52  Feature  POINT (-73.95836 40.60573)  ...         Point   [-73.95836, 40.605729]\n",
              "\n",
              "[3 rows x 22 columns]"
            ]
          },
          "metadata": {
            "tags": []
          },
          "execution_count": 102
        }
      ]
    },
    {
      "cell_type": "code",
      "metadata": {
        "colab": {
          "base_uri": "https://localhost:8080/",
          "height": 136
        },
        "id": "WF4b-qFHdred",
        "outputId": "72a0a78f-a494-497c-cf20-28bca758d5a0"
      },
      "source": [
        "cd_shape_gpd.head(3)"
      ],
      "execution_count": 103,
      "outputs": [
        {
          "output_type": "execute_result",
          "data": {
            "text/html": [
              "<div>\n",
              "<style scoped>\n",
              "    .dataframe tbody tr th:only-of-type {\n",
              "        vertical-align: middle;\n",
              "    }\n",
              "\n",
              "    .dataframe tbody tr th {\n",
              "        vertical-align: top;\n",
              "    }\n",
              "\n",
              "    .dataframe thead th {\n",
              "        text-align: right;\n",
              "    }\n",
              "</style>\n",
              "<table border=\"1\" class=\"dataframe\">\n",
              "  <thead>\n",
              "    <tr style=\"text-align: right;\">\n",
              "      <th></th>\n",
              "      <th>boro_cd</th>\n",
              "      <th>shape_area</th>\n",
              "      <th>shape_leng</th>\n",
              "      <th>geometry</th>\n",
              "    </tr>\n",
              "  </thead>\n",
              "  <tbody>\n",
              "    <tr>\n",
              "      <th>0</th>\n",
              "      <td>101</td>\n",
              "      <td>42689119.0133</td>\n",
              "      <td>74168.5878924</td>\n",
              "      <td>MULTIPOLYGON (((-74.04388 40.69019, -74.04351 ...</td>\n",
              "    </tr>\n",
              "    <tr>\n",
              "      <th>1</th>\n",
              "      <td>102</td>\n",
              "      <td>37689205.9401</td>\n",
              "      <td>34130.5952768</td>\n",
              "      <td>MULTIPOLYGON (((-73.99684 40.73736, -73.99362 ...</td>\n",
              "    </tr>\n",
              "    <tr>\n",
              "      <th>2</th>\n",
              "      <td>103</td>\n",
              "      <td>46879779.2986</td>\n",
              "      <td>30695.6409632</td>\n",
              "      <td>MULTIPOLYGON (((-73.97177 40.72582, -73.97179 ...</td>\n",
              "    </tr>\n",
              "  </tbody>\n",
              "</table>\n",
              "</div>"
            ],
            "text/plain": [
              "  boro_cd  ...                                           geometry\n",
              "0     101  ...  MULTIPOLYGON (((-74.04388 40.69019, -74.04351 ...\n",
              "1     102  ...  MULTIPOLYGON (((-73.99684 40.73736, -73.99362 ...\n",
              "2     103  ...  MULTIPOLYGON (((-73.97177 40.72582, -73.97179 ...\n",
              "\n",
              "[3 rows x 4 columns]"
            ]
          },
          "metadata": {
            "tags": []
          },
          "execution_count": 103
        }
      ]
    },
    {
      "cell_type": "markdown",
      "metadata": {
        "id": "zAIJLMFhpAh-"
      },
      "source": [
        "To count the number of grocery stores in each community district I am going to need to do a \"spatial join\" which will use the geographic information in \"grocery_stores_gpd\" and \"cd_shape_gpd\" to figure out the grocery stores that are within each community district. "
      ]
    },
    {
      "cell_type": "code",
      "metadata": {
        "id": "Ty_eQcli-IDP"
      },
      "source": [
        ""
      ],
      "execution_count": 98,
      "outputs": []
    },
    {
      "cell_type": "markdown",
      "metadata": {
        "id": "3K5FfH18cvTx"
      },
      "source": [
        "I am going to group the data frame by community district and then use (.sum) to count the grocery stores in each."
      ]
    },
    {
      "cell_type": "code",
      "metadata": {
        "id": "OvALctqHc7kD"
      },
      "source": [
        ""
      ],
      "execution_count": 98,
      "outputs": []
    },
    {
      "cell_type": "markdown",
      "metadata": {
        "id": "0pU7zx9eUsL7"
      },
      "source": [
        "# Mapping"
      ]
    },
    {
      "cell_type": "code",
      "metadata": {
        "colab": {
          "base_uri": "https://localhost:8080/",
          "height": 401
        },
        "id": "PpPutPxVYA6q",
        "outputId": "875d97d8-d4bc-40ef-b6b8-34ca7d4b6e61"
      },
      "source": [
        "# Creating the figure\n",
        "%pip install chart-studio\n",
        "import chart_studio.plotly as py\n",
        "fig = px.choropleth(pop_by_cd_geojson,\n",
        "                    #geojson = cd_shape,\n",
        "                    locations='boro_cd',\n",
        "                    #featureidkey='properties.boro_cd',\n",
        "                    color= '2010 Population',\n",
        "                    #hover_data=['CD Name'],\n",
        "                    #center = {'lat': 40.73, 'lon': -73.98},\n",
        "                    zoom=9)\n",
        "\n",
        "fig.update_layout(height=700)\n",
        "fig.show()"
      ],
      "execution_count": 99,
      "outputs": [
        {
          "output_type": "stream",
          "text": [
            "Requirement already satisfied: chart-studio in /usr/local/lib/python3.7/dist-packages (1.1.0)\n",
            "Requirement already satisfied: six in /usr/local/lib/python3.7/dist-packages (from chart-studio) (1.15.0)\n",
            "Requirement already satisfied: retrying>=1.3.3 in /usr/local/lib/python3.7/dist-packages (from chart-studio) (1.3.3)\n",
            "Requirement already satisfied: requests in /usr/local/lib/python3.7/dist-packages (from chart-studio) (2.23.0)\n",
            "Requirement already satisfied: plotly in /usr/local/lib/python3.7/dist-packages (from chart-studio) (4.14.3)\n",
            "Requirement already satisfied: urllib3!=1.25.0,!=1.25.1,<1.26,>=1.21.1 in /usr/local/lib/python3.7/dist-packages (from requests->chart-studio) (1.24.3)\n",
            "Requirement already satisfied: idna<3,>=2.5 in /usr/local/lib/python3.7/dist-packages (from requests->chart-studio) (2.10)\n",
            "Requirement already satisfied: chardet<4,>=3.0.2 in /usr/local/lib/python3.7/dist-packages (from requests->chart-studio) (3.0.4)\n",
            "Requirement already satisfied: certifi>=2017.4.17 in /usr/local/lib/python3.7/dist-packages (from requests->chart-studio) (2020.12.5)\n"
          ],
          "name": "stdout"
        },
        {
          "output_type": "error",
          "ename": "TypeError",
          "evalue": "ignored",
          "traceback": [
            "\u001b[0;31m---------------------------------------------------------------------------\u001b[0m",
            "\u001b[0;31mTypeError\u001b[0m                                 Traceback (most recent call last)",
            "\u001b[0;32m<ipython-input-99-44057adac915>\u001b[0m in \u001b[0;36m<module>\u001b[0;34m()\u001b[0m\n\u001b[1;32m      9\u001b[0m                     \u001b[0;31m#hover_data=['CD Name'],\u001b[0m\u001b[0;34m\u001b[0m\u001b[0;34m\u001b[0m\u001b[0;34m\u001b[0m\u001b[0m\n\u001b[1;32m     10\u001b[0m                     \u001b[0;31m#center = {'lat': 40.73, 'lon': -73.98},\u001b[0m\u001b[0;34m\u001b[0m\u001b[0;34m\u001b[0m\u001b[0;34m\u001b[0m\u001b[0m\n\u001b[0;32m---> 11\u001b[0;31m                     zoom=9)\n\u001b[0m\u001b[1;32m     12\u001b[0m \u001b[0;34m\u001b[0m\u001b[0m\n\u001b[1;32m     13\u001b[0m \u001b[0mfig\u001b[0m\u001b[0;34m.\u001b[0m\u001b[0mupdate_layout\u001b[0m\u001b[0;34m(\u001b[0m\u001b[0mheight\u001b[0m\u001b[0;34m=\u001b[0m\u001b[0;36m700\u001b[0m\u001b[0;34m)\u001b[0m\u001b[0;34m\u001b[0m\u001b[0;34m\u001b[0m\u001b[0m\n",
            "\u001b[0;31mTypeError\u001b[0m: choropleth() got an unexpected keyword argument 'zoom'"
          ]
        }
      ]
    },
    {
      "cell_type": "code",
      "metadata": {
        "id": "ykXAomVU6ye3"
      },
      "source": [
        "# Trying to map the grocery store data frame to see what it looks like \n",
        "# Here is some documentation about making point maps with plotly: https://plotly.com/python/scatter-plots-on-maps/\n",
        "#px.set_mapbox_access_token(open(\".mapbox_token\").read())\n",
        "fig = px.scatter_geo(grocery_stores, \n",
        "                     locations='geometry.coordinates')\n",
        "fig.show()\n"
      ],
      "execution_count": null,
      "outputs": []
    }
  ]
}